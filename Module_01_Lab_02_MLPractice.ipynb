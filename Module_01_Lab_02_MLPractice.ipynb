{
  "nbformat": 4,
  "nbformat_minor": 0,
  "metadata": {
    "colab": {
      "provenance": [],
      "include_colab_link": true
    },
    "kernelspec": {
      "name": "python3",
      "display_name": "Python 3"
    },
    "language_info": {
      "name": "python"
    }
  },
  "cells": [
    {
      "cell_type": "markdown",
      "metadata": {
        "id": "view-in-github",
        "colab_type": "text"
      },
      "source": [
        "<a href=\"https://colab.research.google.com/github/adhi9848/FMML-2023_PROJECTS_and_SUBMISSIONS/blob/main/Module_01_Lab_02_MLPractice.ipynb\" target=\"_parent\"><img src=\"https://colab.research.google.com/assets/colab-badge.svg\" alt=\"Open In Colab\"/></a>"
      ]
    },
    {
      "cell_type": "markdown",
      "metadata": {
        "id": "3Eu9VZbF01eq"
      },
      "source": [
        "# Machine learning terms and metrics\n",
        "\n",
        "FMML Module 1, Lab 2<br>\n",
        "\n",
        "\n",
        " In this lab, we will show a part of the ML pipeline by extracting features, training and testing"
      ]
    },
    {
      "cell_type": "code",
      "metadata": {
        "id": "8qBvyEem0vLi"
      },
      "source": [
        "import matplotlib.pyplot as plt\n",
        "import numpy as np\n",
        "from sklearn import datasets\n",
        "# set randomseed\n",
        "rng = np.random.default_rng(seed=42)"
      ],
      "execution_count": null,
      "outputs": []
    },
    {
      "cell_type": "markdown",
      "metadata": {
        "id": "u3t59g5s1HfC"
      },
      "source": [
        "In this lab, we will use the California Housing dataset. There are 20640 samples, each with 8 attributes like income of the block, age of the houses per district etc. The task is to predict the cost of the houses per district.\n",
        "\n",
        "Let us download and examine the dataset."
      ]
    },
    {
      "cell_type": "code",
      "metadata": {
        "id": "8LpqjN991GGJ"
      },
      "source": [
        " dataset =  datasets.fetch_california_housing()\n",
        " # print(dataset.DESCR)  # uncomment this if you want to know more about this dataset\n",
        " # print(dataset.keys())  # if you want to know what else is there in this dataset\n",
        " dataset.target = dataset.target.astype(np.int) # so that we can classify\n",
        " print(dataset.data.shape)\n",
        " print(dataset.target.shape)"
      ],
      "execution_count": null,
      "outputs": []
    },
    {
      "cell_type": "markdown",
      "metadata": {
        "id": "iNx4174W5xRg"
      },
      "source": [
        "Here is a function for calculating the 1-nearest neighbours"
      ]
    },
    {
      "cell_type": "code",
      "metadata": {
        "id": "07zpydQj1hIQ"
      },
      "source": [
        "def NN1(traindata, trainlabel, query):\n",
        "  diff  = traindata - query  # find the difference between features. Numpy automatically takes care of the size here\n",
        "  sq = diff*diff # square the differences\n",
        "  dist = sq.sum(1) # add up the squares\n",
        "  label = trainlabel[np.argmin(dist)] # our predicted label is the label of the training data which has the least distance from the query\n",
        "  return label\n",
        "\n",
        "def NN(traindata, trainlabel, testdata):\n",
        "  # we will run nearest neighbour for each sample in the test data\n",
        "  # and collect the predicted classes in an array using list comprehension\n",
        "  predlabel = np.array([NN1(traindata, trainlabel, i) for i in testdata])\n",
        "  return predlabel"
      ],
      "execution_count": null,
      "outputs": []
    },
    {
      "cell_type": "markdown",
      "metadata": {
        "id": "03JktkfIGaje"
      },
      "source": [
        "We will also define a 'random classifier', which randomly allots labels to each sample"
      ]
    },
    {
      "cell_type": "code",
      "metadata": {
        "id": "fogWAtjyGhAH"
      },
      "source": [
        "def RandomClassifier(traindata, trainlabel, testdata):\n",
        "  # in reality, we don't need these arguments\n",
        "\n",
        "  classes = np.unique(trainlabel)\n",
        "  rints = rng.integers(low=0, high=len(classes), size=len(testdata))\n",
        "  predlabel = classes[rints]\n",
        "  return predlabel"
      ],
      "execution_count": 18,
      "outputs": []
    },
    {
      "cell_type": "markdown",
      "metadata": {
        "id": "1Hjf1KHs7fU5"
      },
      "source": [
        "Let us define a metric 'Accuracy' to see how good our learning algorithm is. Accuracy is the ratio of the number of correctly classified samples to the total number of samples. The higher the accuracy, the better the algorithm."
      ]
    },
    {
      "cell_type": "code",
      "metadata": {
        "id": "ouuCqWU07bz-"
      },
      "source": [
        "def Accuracy(gtlabel, predlabel):\n",
        "  assert len(gtlabel)==len(predlabel), \"Length of the groundtruth labels and predicted labels should be the same\"\n",
        "  correct = (gtlabel==predlabel).sum() # count the number of times the groundtruth label is equal to the predicted label.\n",
        "  return correct/len(gtlabel)"
      ],
      "execution_count": 19,
      "outputs": []
    },
    {
      "cell_type": "markdown",
      "metadata": {
        "id": "4vJFwBFa9Klw"
      },
      "source": [
        "Let us make a function to split the dataset with the desired probability."
      ]
    },
    {
      "cell_type": "code",
      "metadata": {
        "id": "Ko0VzpSM2Tdi"
      },
      "source": [
        "def split(data, label, percent):\n",
        "  # generate a random number for each sample\n",
        "  rnd = rng.random(len(label))\n",
        "  split1 = rnd<percent\n",
        "  split2 = rnd>=percent\n",
        "  split1data = data[split1,:]\n",
        "  split1label = label[split1]\n",
        "  split2data = data[split2,:]\n",
        "  split2label = label[split2]\n",
        "  return split1data, split1label, split2data, split2label"
      ],
      "execution_count": 20,
      "outputs": []
    },
    {
      "cell_type": "markdown",
      "metadata": {
        "id": "AcK3LEAJ_LGC"
      },
      "source": [
        "We will reserve 20% of our dataset as the test set. We will not change this portion throughout our experiments"
      ]
    },
    {
      "cell_type": "code",
      "metadata": {
        "id": "bBZkHBLJ1iU-",
        "colab": {
          "base_uri": "https://localhost:8080/"
        },
        "outputId": "417a1b0c-079a-40a6-e980-5bb9016b8385"
      },
      "source": [
        "testdata, testlabel, alltraindata, alltrainlabel = split(dataset.data, dataset.target, 20/100)\n",
        "print('Number of test samples = ', len(testlabel))\n",
        "print('Number of other samples = ', len(alltrainlabel))\n",
        "print('Percent of test data = ', len(testlabel)*100/len(dataset.target),'%')"
      ],
      "execution_count": 21,
      "outputs": [
        {
          "metadata": {
            "tags": null
          },
          "name": "stdout",
          "output_type": "stream",
          "text": [
            "Number of test samples =  4144\n",
            "Number of other samples =  16496\n",
            "Percent of test data =  20.07751937984496 %\n"
          ]
        }
      ]
    },
    {
      "cell_type": "markdown",
      "metadata": {
        "id": "a6Ss0Z6IAGNV"
      },
      "source": [
        "## Experiments with splits\n",
        "\n",
        "Let us reserve some of our train data as a validation set"
      ]
    },
    {
      "cell_type": "code",
      "metadata": {
        "id": "WFew2iry_7W7"
      },
      "source": [
        "traindata, trainlabel, valdata, vallabel = split(alltraindata, alltrainlabel, 75/100)"
      ],
      "execution_count": 22,
      "outputs": []
    },
    {
      "cell_type": "markdown",
      "metadata": {
        "id": "60hiu4clFN1i"
      },
      "source": [
        "What is the accuracy of our classifiers on the train dataset?"
      ]
    },
    {
      "cell_type": "code",
      "metadata": {
        "id": "DBlZDTHUFTZx"
      },
      "source": [
        "trainpred = NN(traindata, trainlabel, traindata)\n",
        "trainAccuracy = Accuracy(trainlabel, trainpred)\n",
        "print(\"Train accuracy using nearest neighbour is \", trainAccuracy)\n",
        "\n",
        "trainpred = RandomClassifier(traindata, trainlabel, traindata)\n",
        "trainAccuracy = Accuracy(trainlabel, trainpred)\n",
        "print(\"Train accuracy using random classifier is \", trainAccuracy)"
      ],
      "execution_count": null,
      "outputs": []
    },
    {
      "cell_type": "markdown",
      "metadata": {
        "id": "7h08-9gJDtSy"
      },
      "source": [
        "For nearest neighbour, the train accuracy is always 1. The accuracy of the random classifier is close to 1/(number of classes) which is 0.1666 in our case.\n",
        "\n",
        "Let us predict the labels for our validation set and get the accuracy"
      ]
    },
    {
      "cell_type": "code",
      "metadata": {
        "id": "4h7bXoW_2H3v"
      },
      "source": [
        "valpred = NN(traindata, trainlabel, valdata)\n",
        "valAccuracy = Accuracy(vallabel, valpred)\n",
        "print(\"Validation accuracy using nearest neighbour is \", valAccuracy)\n",
        "\n",
        "valpred = RandomClassifier(traindata, trainlabel, valdata)\n",
        "valAccuracy = Accuracy(vallabel, valpred)\n",
        "print(\"Validation accuracy using random classifier is \", valAccuracy)"
      ],
      "execution_count": null,
      "outputs": []
    },
    {
      "cell_type": "markdown",
      "metadata": {
        "id": "py9bLguFEjfg"
      },
      "source": [
        "Validation accuracy of nearest neighbour is considerably less than its train accuracy while the validation accuracy of random classifier is the same. However, the validation accuracy of nearest neighbour is twice that of the random classifier.\n",
        "\n",
        "Now let us try another random split and check the validation accuracy"
      ]
    },
    {
      "cell_type": "code",
      "metadata": {
        "id": "ujm3cyYzEntE"
      },
      "source": [
        "traindata, trainlabel, valdata, vallabel = split(alltraindata, alltrainlabel, 75/100)\n",
        "valpred = NN(traindata, trainlabel, valdata)\n",
        "valAccuracy = Accuracy(vallabel, valpred)\n",
        "print(\"Validation accuracy of nearest neighbour is \", valAccuracy)"
      ],
      "execution_count": null,
      "outputs": []
    },
    {
      "cell_type": "markdown",
      "metadata": {
        "id": "oSOx7U83EKie"
      },
      "source": [
        "You can run the above cell multiple times to try with different random splits.\n",
        "We notice that the accuracy is different for each run, but close together.\n",
        "\n",
        "Now let us compare it with the accuracy we get on the test dataset."
      ]
    },
    {
      "cell_type": "code",
      "metadata": {
        "id": "PNEZ5ToYBEDW"
      },
      "source": [
        "testpred = NN(alltraindata, alltrainlabel, testdata)\n",
        "testAccuracy = Accuracy(testlabel, testpred)\n",
        "print('Test accuracy is ', testAccuracy)"
      ],
      "execution_count": null,
      "outputs": []
    },
    {
      "cell_type": "markdown",
      "metadata": {
        "id": "w3dGD531K3gH"
      },
      "source": [
        "### Try it out for yourself and answer:\n",
        "1. How is the accuracy of the validation set affected if we increase the percentage of validation set? What happens when we reduce it?\n",
        "2. How does the size of the train and validation set affect how well we can predict the accuracy on the test set using the validation set?\n",
        "3. What do you think is a good percentage to reserve for the validation set so that thest two factors are balanced?\n",
        "\n",
        "Answer for both nearest neighbour and random classifier. You can note down the values for your experiments and plot a graph using  <a href=https://matplotlib.org/stable/gallery/lines_bars_and_markers/step_demo.html#sphx-glr-gallery-lines-bars-and-markers-step-demo-py>plt.plot<href>. Check also for extreme values for splits, like 99.9% or 0.1%"
      ]
    },
    {
      "cell_type": "markdown",
      "source": [
        "## Solution\n"
      ],
      "metadata": {
        "id": "w6CqdM7q53cD"
      }
    },
    {
      "cell_type": "code",
      "source": [
        "val_accuracy_on_increasing = []\n",
        "test_accuracy = []\n",
        "\n",
        "rnd_val_accuracy_on_increasing = []\n",
        "rnd_test_accuracy = []\n",
        "\n",
        "percentages = np.arange(10, 100, 5)\n",
        "len_precent = len(percentages)\n",
        "\n",
        "for idx, i in enumerate(percentages):\n",
        "\n",
        "  print(f'{idx+1} / {len_precent}')\n",
        "  traindata, trainlabel, valdata, vallabel = split(alltraindata, alltrainlabel, (100-i)/100)\n",
        "\n",
        "  # Nearest Neighbor\n",
        "  valpred = NN(traindata, trainlabel, valdata)\n",
        "  valAccuracy = Accuracy(vallabel, valpred)\n",
        "  val_accuracy_on_increasing.append(valAccuracy)\n",
        "\n",
        "  # ## Test Dataset\n",
        "  # testpred = NN(alltraindata, alltrainlabel, testdata)\n",
        "  # testAccuracy = Accuracy(testlabel, testpred)\n",
        "  # test_accuracy.append(testAccuracy)\n",
        "\n",
        "  # Random Classifier\n",
        "  valpred = RandomClassifier(traindata, trainlabel, valdata)\n",
        "  valAccuracy = Accuracy(vallabel, valpred)\n",
        "  rnd_val_accuracy_on_increasing.append(valAccuracy)\n",
        "\n",
        "  # ## Test Dataset\n",
        "  # testpred = RandomClassifier(alltraindata, alltrainlabel, testdata)\n",
        "  # testAccuracy = Accuracy(testlabel, testpred)\n",
        "  # rnd_test_accuracy.append(testAccuracy)\n",
        "\n",
        "print(len(val_accuracy_on_increasing))"
      ],
      "metadata": {
        "id": "tfhTUExd55O3"
      },
      "execution_count": null,
      "outputs": []
    },
    {
      "cell_type": "code",
      "source": [
        "extreme_points = [0.1, 99.9]\n",
        "extreme_val_acc = []\n",
        "extreme_test_acc = []\n",
        "\n",
        "rnd_extreme_val_acc = []\n",
        "rnd_extreme_test_acc = []\n",
        "\n",
        "for i in extreme_points:\n",
        "  traindata, trainlabel, valdata, vallabel = split(alltraindata, alltrainlabel, (100-i)/100)\n",
        "\n",
        "  # Neignest Neignbor\n",
        "  valpred = NN(traindata, trainlabel, valdata)\n",
        "  valAccuracy = Accuracy(vallabel, valpred)\n",
        "  extreme_val_acc.append(valAccuracy)\n",
        "\n",
        "  # ## Test Data\n",
        "  # testpred = NN(alltraindata, alltrainlabel, testdata)\n",
        "  # testAccuracy = Accuracy(testlabel, testpred)\n",
        "  # extreme_test_acc.append(testAccuracy)\n",
        "\n",
        "  # Random Classifier\n",
        "  valpred = RandomClassifier(traindata, trainlabel, valdata)\n",
        "  valAccuracy = Accuracy(vallabel, valpred)\n",
        "  rnd_extreme_val_acc.append(valAccuracy)\n",
        "\n",
        "  # ## Test Dataset\n",
        "  # testpred = RandomClassifier(alltraindata, alltrainlabel, testdata)\n",
        "  # testAccuracy = Accuracy(testlabel, testpred)\n",
        "  # rnd_extreme_test_acc.append(testAccuracy)"
      ],
      "metadata": {
        "id": "Dt4a9eQA57eV"
      },
      "execution_count": null,
      "outputs": []
    },
    {
      "cell_type": "markdown",
      "source": [
        "### Nearest Neighbor"
      ],
      "metadata": {
        "id": "Z2I5W5Gh59cJ"
      }
    },
    {
      "cell_type": "code",
      "source": [
        "plt.figure(figsize=(20, 6))\n",
        "\n",
        "plt.title(\"Nearest Neighbor\")\n",
        "\n",
        "plt.plot(percentages, val_accuracy_on_increasing, label=\"Validation Accuracy in Range\", drawstyle='steps', color='green')\n",
        "# plt.plot(percentages, test_accuracy, label=\"Test Accuracy in Range\", drawstyle='steps', color='blue')\n",
        "\n",
        "plt.scatter(extreme_points, extreme_val_acc, label=\"Extreme Validation Cases\", color='red')\n",
        "# plt.scatter(extreme_points, extreme_test_acc, label=\"Extreme Test Cases\", color='orange')\n",
        "\n",
        "plt.xlabel(\"Percentage of Validation set\")\n",
        "plt.ylabel(\"Accuracy\")\n",
        "plt.legend()\n",
        "plt.show()"
      ],
      "metadata": {
        "id": "mGeu0lC_5-45"
      },
      "execution_count": null,
      "outputs": []
    },
    {
      "cell_type": "markdown",
      "source": [
        "We can see that on increasing the size of validation dataset after a point the accuracy keeps on decreasing.\n",
        "\n",
        "Similarly, on test dataset, avvuracy kees on decreasing as the number of points in train data decreases.\n",
        "\n",
        "From the above experiment it will be good to have 60-20-20"
      ],
      "metadata": {
        "id": "3yQ1Hh5s6AdN"
      }
    },
    {
      "cell_type": "markdown",
      "source": [
        "### Random Classifier"
      ],
      "metadata": {
        "id": "bgf7jSDK6Cug"
      }
    },
    {
      "cell_type": "code",
      "source": [
        "plt.figure(figsize=(20, 6))\n",
        "\n",
        "plt.title(\"Random Classifier\")\n",
        "\n",
        "plt.plot(percentages, rnd_val_accuracy_on_increasing, label=\"Validation Accuracy in Range\", drawstyle='steps', color='green')\n",
        "# plt.plot(percentages, rnd_test_accuracy, label=\"Test Accuracy in Range\", drawstyle='steps', color='blue')\n",
        "\n",
        "plt.scatter(extreme_points, rnd_extreme_val_acc, label=\"Extreme Validation Cases\", color='red')\n",
        "# plt.scatter(extreme_points, rnd_extreme_test_acc, label=\"Extreme Test Cases\", color='orange')\n",
        "\n",
        "\n",
        "plt.xlabel(\"Percentage of Validation set\")\n",
        "plt.ylabel(\"Accuracy\")\n",
        "plt.legend()\n",
        "plt.show()"
      ],
      "metadata": {
        "id": "LK34lsAT6D9U"
      },
      "execution_count": null,
      "outputs": []
    },
    {
      "cell_type": "markdown",
      "source": [
        "In Random Classifier the classification accuracy does not depend on the split of dataset"
      ],
      "metadata": {
        "id": "o1k-NIA86Fih"
      }
    },
    {
      "cell_type": "markdown",
      "metadata": {
        "id": "PnYvkAZLQY7h"
      },
      "source": [
        "## Multiple Splits\n",
        "\n",
        "One way to get more accurate estimates for the test accuracy is by using <b>crossvalidation</b>. Here, we will try a simple version, where we do multiple train/val splits and take the average of validation accuracies as the test accuracy estimation. Here is a function for doing this. Note that this function will take a long time to execute."
      ]
    },
    {
      "cell_type": "code",
      "metadata": {
        "id": "E4nGCUQXBTzo"
      },
      "source": [
        "# you can use this function for random classifier also\n",
        "def AverageAccuracy(alldata, alllabel, splitpercent, iterations, classifier=NN):\n",
        "  accuracy = 0\n",
        "  for ii in range(iterations):\n",
        "    traindata, trainlabel, valdata, vallabel = split(alldata, alllabel, splitpercent)\n",
        "    valpred = classifier(traindata, trainlabel, valdata)\n",
        "    accuracy += Accuracy(vallabel, valpred)\n",
        "  return accuracy/iterations # average of all accuracies"
      ],
      "execution_count": null,
      "outputs": []
    },
    {
      "cell_type": "code",
      "metadata": {
        "id": "H3qtNar7Bbik"
      },
      "source": [
        "print('Average validation accuracy is ', AverageAccuracy(alltraindata, alltrainlabel, 75/100, 10, classifier=NN))\n",
        "testpred = NN(alltraindata, alltrainlabel, testdata)\n",
        "print('test accuracy is ',Accuracy(testlabel, testpred) )"
      ],
      "execution_count": null,
      "outputs": []
    },
    {
      "cell_type": "markdown",
      "metadata": {
        "id": "33GIn4x5VH-d"
      },
      "source": [
        "This is a very simple way of doing cross-validation. There are many well-known algorithms for cross-validation, like k-fold cross-validation, leave-one-out etc. This will be covered in detail in a later module. For more information about cross-validation, check <a href=https://en.wikipedia.org/wiki/Cross-validation_(statistics)>Cross-validatioin (Wikipedia)</a>\n",
        "\n",
        "### Questions\n",
        "1. Does averaging the validation accuracy across multiple splits give more consistent results?\n",
        "2. Does it give more accurate estimate of test accuracy?\n",
        "3. What is the effect of the number of iterations on the estimate? Do we get a better estimate with higher iterations?\n",
        "4. Consider the results you got for the previous questions. Can we deal with a very small train dataset or validation dataset by increasing the iterations?\n"
      ]
    },
    {
      "cell_type": "markdown",
      "source": [
        "## Solution"
      ],
      "metadata": {
        "id": "3AkrlZ1N6LOn"
      }
    },
    {
      "cell_type": "markdown",
      "source": [
        "1. Yes, the averaging resolves the issues related to class imbalance."
      ],
      "metadata": {
        "id": "Xpgpi5kT6MjV"
      }
    },
    {
      "cell_type": "markdown",
      "source": [
        "2. Yes, test accuracy must increase as we are not letting the model getting biased to imbalanced class. But in NN it is basically the datasets(train+validation) that is compared against test dataset. So accuracy must remain constant"
      ],
      "metadata": {
        "id": "AdXuEeGz6OL4"
      }
    },
    {
      "cell_type": "code",
      "source": [
        "iter_val_acc = []\n",
        "iter_test_acc = []\n",
        "for i in range(1, 21):\n",
        "  print(f'{i} / 20')\n",
        "  acc = AverageAccuracy(alltraindata, alltrainlabel, 75/100, i, classifier=NN)\n",
        "  iter_val_acc.append(acc)\n",
        "  testpred = NN(alltraindata, alltrainlabel, testdata)\n",
        "  iter_test_acc.append(Accuracy(testlabel, testpred))"
      ],
      "metadata": {
        "id": "q_wyGQpy6kBp",
        "outputId": "5a65eda8-0112-4233-ec85-293cfb145db7",
        "colab": {
          "base_uri": "https://localhost:8080/"
        }
      },
      "execution_count": 33,
      "outputs": [
        {
          "metadata": {
            "tags": null
          },
          "name": "stdout",
          "output_type": "stream",
          "text": [
            "1 / 20\n",
            "2 / 20\n",
            "3 / 20\n",
            "4 / 20\n",
            "5 / 20\n",
            "6 / 20\n",
            "7 / 20\n",
            "8 / 20\n",
            "9 / 20\n",
            "10 / 20\n",
            "11 / 20\n",
            "12 / 20\n",
            "13 / 20\n",
            "14 / 20\n",
            "15 / 20\n",
            "16 / 20\n",
            "17 / 20\n",
            "18 / 20\n",
            "19 / 20\n",
            "20 / 20\n"
          ]
        }
      ]
    },
    {
      "cell_type": "code",
      "source": [
        "plt.figure(figsize=(20, 6))\n",
        "\n",
        "plt.title(\"Iteration\")\n",
        "\n",
        "plt.plot(np.arange(1, 21), iter_val_acc, label=\"Validation Accuracy\", drawstyle='steps', color='green')\n",
        "plt.plot(np.arange(1, 21), iter_test_acc, label=\"Test Accuracy\", drawstyle='steps', color='blue')\n",
        "\n",
        "plt.xlabel(\"Iteration\")\n",
        "plt.ylabel(\"Accuracy\")\n",
        "plt.legend()\n",
        "plt.show()"
      ],
      "metadata": {
        "id": "0Z0z38Xk6mCA",
        "outputId": "cd409126-dfa0-4581-d87d-16e6544ab3b3",
        "colab": {
          "base_uri": "https://localhost:8080/",
          "height": 490
        }
      },
      "execution_count": 34,
      "outputs": [
        {
          "output_type": "display_data",
          "data": {
            "text/plain": [
              "<Figure size 2000x600 with 1 Axes>"
            ],
            "image/png": "[encoded data removed]"
          },
          "metadata": {}
        }
      ]
    },
    {
      "cell_type": "markdown",
      "source": [
        "3. Yes there is impact on validation accuracy as number of classes get shuffled. Too many iteration doesn't mean it is too good model. There is a limit. Here it is 10 iteration which is giving relativerly good validation accuracy"
      ],
      "metadata": {
        "id": "fKNb515c6oPs"
      }
    },
    {
      "cell_type": "markdown",
      "source": [
        "4. On increasing iteration we can increase the limit to an extend but cannot improve the model significantly because after any number of iteration if the model encounters a class that was not mentioned in training dataset, model is going to predict false value.\n",
        "\n",
        "**Too many iteration can lead to over-fitting of data.**"
      ],
      "metadata": {
        "id": "vW2ayAc26qhB"
      }
    }
  ]
}